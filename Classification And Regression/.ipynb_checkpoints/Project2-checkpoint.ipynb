{
 "cells": [
  {
   "cell_type": "code",
   "execution_count": 1,
   "metadata": {
    "collapsed": true
   },
   "outputs": [],
   "source": [
    "import numpy as np\n",
    "from scipy.optimize import minimize\n",
    "from scipy.io import loadmat\n",
    "from numpy.linalg import det, inv\n",
    "from math import sqrt, pi\n",
    "import scipy.io\n",
    "import matplotlib.pyplot as plt\n",
    "import pickle\n",
    "import sys\n",
    "import math\n",
    "import csv"
   ]
  },
  {
   "cell_type": "code",
   "execution_count": 2,
   "metadata": {
    "collapsed": true
   },
   "outputs": [],
   "source": [
    "def ldaLearn(X, y):\n",
    "    y = y.flatten()\n",
    "\n",
    "    classes = np.unique(y)\n",
    "    k = int(np.max(y))\n",
    "    d = X.shape[1]\n",
    "    means = np.zeros((d, k))\n",
    "    for i in range(k):\n",
    "        means[:, i] = np.mean(X[y == classes[i]], 0)\n",
    "        #print(means.shape)\n",
    "    covmat = np.cov(np.transpose(X))\n",
    "\n",
    "    return means, covmat"
   ]
  },
  {
   "cell_type": "code",
   "execution_count": 3,
   "metadata": {
    "collapsed": true
   },
   "outputs": [],
   "source": [
    "def qdaLearn(X,y):\n",
    "    # Inputs\n",
    "    # X - a N x d matrix with each row corresponding to a training example\n",
    "    # y - a N x 1 column vector indicating the labels for each training example\n",
    "    #\n",
    "    # Outputs\n",
    "    # means - A d x k matrix containing learnt means for each of the k classes\n",
    "    # covmats - A list of k d x d learnt covariance matrices for each of the k classes\n",
    "\n",
    "    # IMPLEMENT THIS METHOD\n",
    "    y = y.flatten()\n",
    "\n",
    "    classes = np.unique(y)\n",
    "    k = int(np.max(y))\n",
    "    d = X.shape[1]\n",
    "    means = np.empty((d, k))\n",
    "    covmats = []\n",
    "    for i in range(k):\n",
    "        #print(float(i))\n",
    "        means[:, i] = np.mean(X[y == classes[i]], axis=0)\n",
    "        covmats.append(np.cov(X[y == classes[i]].T))\n",
    "\n",
    "    return means,covmats"
   ]
  },
  {
   "cell_type": "code",
   "execution_count": 4,
   "metadata": {
    "collapsed": true
   },
   "outputs": [],
   "source": [
    "def ldaTest(means, covmat, Xtest, ytest):\n",
    "    # Inputs\n",
    "    # means, covmat - parameters of the LDA model\n",
    "    # Xtest - a N x d matrix with each row corresponding to a test example\n",
    "    # ytest - a N x 1 column vector indicating the labels for each test example\n",
    "    # Outputs\n",
    "    # acc - A scalar accuracy value\n",
    "    # ypred - N x 1 column vector indicating the predicted labels\n",
    "\n",
    "    # IMPLEMENT THIS METHOD\n",
    "    # p=np.empty(5)\n",
    "    N = Xtest.shape[0]\n",
    "    d = means.shape[0]\n",
    "    k = means.shape[1]\n",
    "\n",
    "\n",
    "\n",
    "    invCov = np.linalg.inv(covmat)\n",
    "    detCov = np.linalg.det(covmat)\n",
    "\n",
    "    denom = np.power(2 * math.pi, d / 2) * np.sqrt(detCov)\n",
    "    pdf = np.empty((N,k))\n",
    "    y1pred = []\n",
    "    aight = 0\n",
    "    for i in range(N):\n",
    "        for j in range(k):\n",
    "            diff = Xtest[i, :] - means[:, j]\n",
    "            numer = np.exp(-.5*np.dot(np.dot(diff, invCov).T, (diff)))\n",
    "            score = numer / denom\n",
    "            pdf[:,j] = score\n",
    "        y1pred.append(pdf.argmax()+ 1)\n",
    "        if y1pred[i] == ytest[i]:\n",
    "            aight += 1\n",
    "    ypred = np.vstack(y1pred)\n",
    "    acc = aight / N\n",
    "\n",
    "\n",
    "    return acc, ypred"
   ]
  },
  {
   "cell_type": "code",
   "execution_count": 5,
   "metadata": {
    "collapsed": true
   },
   "outputs": [],
   "source": [
    "def qdaTest(means,covmats,Xtest,ytest):\n",
    "    # Inputs\n",
    "    # means, covmats - parameters of the QDA model\n",
    "    # Xtest - a N x d matrix with each row corresponding to a test example\n",
    "    # ytest - a N x 1 column vector indicating the labels for each test example\n",
    "    # Outputs\n",
    "    # acc - A scalar accuracy value\n",
    "    # ypred - N x 1 column vector indicating the predicted labels\n",
    "\n",
    "    # IMPLEMENT THIS METHOD\n",
    "    N = Xtest.shape[0]\n",
    "    d = means.shape[0]\n",
    "    k = means.shape[1]\n",
    "\n",
    "\n",
    "\n",
    "    pdf = np.empty((N,k))\n",
    "    y1pred = []\n",
    "    aight = 0\n",
    "    for i in range(N):\n",
    "        for j in range(k):\n",
    "            detCov = np.linalg.det(covmats[k-1])\n",
    "            invCov = np.linalg.inv(covmats[k-1])\n",
    "            denom = np.power(2 * math.pi, d / 2) * np.sqrt(detCov)\n",
    "            diff = Xtest[i, :] - means[:, j]\n",
    "            numer = np.exp(-.5*np.dot(np.dot(diff, invCov).T, (diff)))\n",
    "            score = numer / denom\n",
    "            pdf[:,j] = score\n",
    "        y1pred.append(pdf.argmax()+ 1)\n",
    "        if y1pred[i] == ytest[i]:\n",
    "            aight += 1\n",
    "    acc = aight / N\n",
    "    ypred = np.vstack(y1pred)\n",
    "    #print(ypred.shape)\n",
    "\n",
    "    return acc,ypred"
   ]
  },
  {
   "cell_type": "code",
   "execution_count": 6,
   "metadata": {
    "collapsed": true
   },
   "outputs": [],
   "source": [
    "def learnOLERegression(X,y):\n",
    "    # Inputs:\n",
    "    # X = N x d\n",
    "    # y = N x 1\n",
    "    # Output:\n",
    "    # w = d x 1\n",
    "\n",
    "    # IMPLEMENT THIS METHOD\n",
    "    w = np.dot((np.linalg.inv(X.T.dot(X))), (X.T.dot(y)))\n",
    "    return w\n",
    "\n",
    "def learnRidgeRegression(X,y,lambd):\n",
    "    # Inputs:\n",
    "    # X = N x d\n",
    "    # y = N x 1\n",
    "    # lambd = ridge parameter (scalar)\n",
    "    # Output:\n",
    "    # w = d x 1\n",
    "\n",
    "    # IMPLEMENT THIS METHOD\n",
    "    N = X.shape[0]\n",
    "    d = X.shape[1]\n",
    "    w = ((np.linalg.inv(((X.T).dot(X)) + (lambd * np.eye(d)))).dot(X.T)).dot(y)\n",
    "    return w"
   ]
  },
  {
   "cell_type": "code",
   "execution_count": 7,
   "metadata": {
    "collapsed": true
   },
   "outputs": [],
   "source": [
    "def testOLERegression(w,Xtest,ytest):\n",
    "    # Inputs:\n",
    "    # w = d x 1\n",
    "    # Xtest = N x d\n",
    "    # ytest = X x 1\n",
    "    # Output:\n",
    "    # mse\n",
    "\n",
    "    # IMPLEMENT THIS METHOD\n",
    "    mse = (1.0 / Xtest.shape[0]) * np.sqrt(np.sum(np.square((ytest - np.dot(Xtest, w)))))\n",
    "    return mse\n",
    "\n",
    "def regressionObjVal(w, X, y, lambd):\n",
    "    # compute squared error (scalar) and gradient of squared error with respect\n",
    "    # to w (vector) for the given data X and y and the regularization parameter\n",
    "    # lambda\n",
    "\n",
    "    # IMPLEMENT THIS METHOD\n",
    "    N = X.shape[0]\n",
    "\n",
    "\n",
    "    #error = ((np.linalg.inv(((X.T).dot(X)) + (lambd * np.eye(d)))).dot(X.T)).dot(y)\n",
    "    #error = ((np.sum(np.square(y - np.dot(X, w.T)))) / (2)) + ((lambd * np.dot(w.T, w)) / 2)\n",
    "    wT = np.array([w]).T\n",
    "    w2 = np.array([w])\n",
    "    term1=(y - np.dot(X, wT))\n",
    "    error = ((np.dot(term1.T, term1)) / (2.0 * N)) + ((np.dot(lambd, np.dot(wT.T, wT))) / 2)\n",
    "    yTx = np.dot(y.T, X)\n",
    "    xTx = np.dot(X.T, X)\n",
    "    error_grad = ((((-1.0 * yTx) + (np.dot(w.T, xTx))) / N) + (lambd * w)).flatten()\n",
    "    #error_grad=(-1.0*(y - np.dot(X, w1)))+(((lambd*w1))*0.5)\n",
    "\n",
    "    return error, error_grad"
   ]
  },
  {
   "cell_type": "code",
   "execution_count": 8,
   "metadata": {},
   "outputs": [
    {
     "name": "stdout",
     "output_type": "stream",
     "text": [
      "LDA Accuracy = 0.97\n",
      "QDA Accuracy = 0.97\n"
     ]
    },
    {
     "data": {
      "image/png": "[encoded data removed]",
      "text/plain": [
       "<matplotlib.figure.Figure at 0x7f2e1e50fba8>"
      ]
     },
     "metadata": {},
     "output_type": "display_data"
    }
   ],
   "source": [
    "def mapNonLinear(x,p):\n",
    "    # Inputs:\n",
    "    # x - a single column vector (N x 1)\n",
    "    # p - integer (>= 0)\n",
    "    # Outputs:\n",
    "    # Xd - (N x (d+1))\n",
    "\n",
    "    # IMPLEMENT THIS METHOD\n",
    "    N = x.shape[0]\n",
    "    Xd = np.zeros((N, p+1))\n",
    "    for i in range(p+1):\n",
    "        Xd[:,i] = pow(x,i)\n",
    "    #print(\"this is XD\" + str(Xd.shape))\n",
    "    return Xd\n",
    "\n",
    "\n",
    "# Main script\n",
    "\n",
    "# Problem 1\n",
    "# load the sample data\n",
    "if sys.version_info.major == 2:\n",
    "    X,y,Xtest,ytest = pickle.load(open('sample.pickle','rb'))\n",
    "else:\n",
    "    X,y,Xtest,ytest = pickle.load(open('sample.pickle','rb'),encoding = 'latin1')\n",
    "\n",
    "# LDA\n",
    "means,covmat = ldaLearn(X,y)\n",
    "ldaacc,ldares = ldaTest(means,covmat,Xtest,ytest)\n",
    "print('LDA Accuracy = '+str(ldaacc))\n",
    "# QDA\n",
    "means,covmats = qdaLearn(X,y)\n",
    "qdaacc,qdares = qdaTest(means,covmats,Xtest,ytest)\n",
    "print('QDA Accuracy = '+str(qdaacc))\n",
    "\n",
    "# plotting boundaries\n",
    "x1 = np.linspace(-5,20,100)\n",
    "x2 = np.linspace(-5,20,100)\n",
    "xx1,xx2 = np.meshgrid(x1,x2)\n",
    "xx = np.zeros((x1.shape[0]*x2.shape[0],2))\n",
    "xx[:,0] = xx1.ravel()\n",
    "xx[:,1] = xx2.ravel()\n",
    "\n",
    "fig = plt.figure(figsize=[12,6])\n",
    "plt.subplot(1, 2, 1)\n",
    "\n",
    "zacc,zldares = ldaTest(means,covmat,xx,np.zeros((xx.shape[0],1)))\n",
    "plt.contourf(x1,x2,zldares.reshape((x1.shape[0],x2.shape[0])),alpha=0.3)\n",
    "# plt.contourf(x1,x2,zldares.reshape((x1.shape[0],x2.shape[0])),alpha=0.3)\n",
    "plt.scatter(Xtest[:,0],Xtest[:,1],c=ytest)\n",
    "plt.title('LDA')\n",
    "\n",
    "plt.subplot(1, 2, 2)\n",
    "\n",
    "zacc,zqdares = qdaTest(means,covmats,xx,np.zeros((xx.shape[0],1)))\n",
    "plt.contourf(x1,x2,zqdares.reshape((x1.shape[0],x2.shape[0])),alpha=0.3)\n",
    "plt.scatter(Xtest[:,0],Xtest[:,1],c=ytest)\n",
    "plt.title('QDA')\n",
    "\n",
    "plt.show()"
   ]
  },
  {
   "cell_type": "code",
   "execution_count": 9,
   "metadata": {},
   "outputs": [
    {
     "name": "stdout",
     "output_type": "stream",
     "text": [
      "MSE without intercept 23.1057743396\n",
      "MSE with intercept 4.30571723492\n"
     ]
    }
   ],
   "source": [
    "# Problem 2\n",
    "if sys.version_info.major == 2:\n",
    "    X,y,Xtest,ytest = pickle.load(open('diabetes.pickle','rb'))\n",
    "else:\n",
    "    X,y,Xtest,ytest = pickle.load(open('diabetes.pickle','rb'),encoding = 'latin1')\n",
    "\n",
    "# add intercept\n",
    "X_i = np.concatenate((np.ones((X.shape[0],1)), X), axis=1)\n",
    "Xtest_i = np.concatenate((np.ones((Xtest.shape[0],1)), Xtest), axis=1)\n",
    "\n",
    "w = learnOLERegression(X,y)\n",
    "mle = testOLERegression(w,Xtest,ytest)\n",
    "\n",
    "w_i = learnOLERegression(X_i,y)\n",
    "mle_i = testOLERegression(w_i,Xtest_i,ytest)\n",
    "\n",
    "print('MSE without intercept '+str(mle))\n",
    "print('MSE with intercept '+str(mle_i))"
   ]
  },
  {
   "cell_type": "code",
   "execution_count": 10,
   "metadata": {},
   "outputs": [
    {
     "name": "stdout",
     "output_type": "stream",
     "text": [
      "Lambda, TestingMSE, TrainingMSE\n"
     ]
    },
    {
     "data": {
      "image/png": "[encoded data removed]",
      "text/plain": [
       "<matplotlib.figure.Figure at 0x7f2e1c44f240>"
      ]
     },
     "metadata": {},
     "output_type": "display_data"
    }
   ],
   "source": [
    "# Problem 3\n",
    "k = 101\n",
    "lambdas = np.linspace(0, 1, num=k)\n",
    "i = 0\n",
    "mses3_train = np.zeros((k,1))\n",
    "mses3 = np.zeros((k,1))\n",
    "print(\"Lambda, TestingMSE, TrainingMSE\")\n",
    "for lambd in lambdas:\n",
    "#     print(\"Iterating for lamba value: \",lambd)\n",
    "    w_l = learnRidgeRegression(X_i,y,lambd)\n",
    "    mses3_train[i] = testOLERegression(w_l,X_i,y)\n",
    "    mses3[i] = testOLERegression(w_l,Xtest_i,ytest)\n",
    "#     print(lambd,\",\",mses3[i][0],\",\",mses3_train[i][0])\n",
    "    i = i + 1\n",
    "fig = plt.figure(figsize=[12,6])\n",
    "plt.subplot(1, 2, 1)\n",
    "plt.plot(lambdas,mses3_train)\n",
    "plt.title('MSE for Train Data')\n",
    "plt.subplot(1, 2, 2)\n",
    "plt.plot(lambdas,mses3)\n",
    "plt.title('MSE for Test Data')\n",
    "\n",
    "plt.show()"
   ]
  },
  {
   "cell_type": "code",
   "execution_count": 11,
   "metadata": {},
   "outputs": [
    {
     "ename": "ValueError",
     "evalue": "shapes (242,65) and (65,1,1) not aligned: 65 (dim 1) != 1 (dim 1)",
     "output_type": "error",
     "traceback": [
      "\u001b[0;31m---------------------------------------------------------------------------\u001b[0m",
      "\u001b[0;31mValueError\u001b[0m                                Traceback (most recent call last)",
      "\u001b[0;32m<ipython-input-11-815e90477929>\u001b[0m in \u001b[0;36m<module>\u001b[0;34m()\u001b[0m\n\u001b[1;32m      9\u001b[0m \u001b[0;32mfor\u001b[0m \u001b[0mlambd\u001b[0m \u001b[0;32min\u001b[0m \u001b[0mlambdas\u001b[0m\u001b[0;34m:\u001b[0m\u001b[0;34m\u001b[0m\u001b[0m\n\u001b[1;32m     10\u001b[0m     \u001b[0margs\u001b[0m \u001b[0;34m=\u001b[0m \u001b[0;34m(\u001b[0m\u001b[0mX_i\u001b[0m\u001b[0;34m,\u001b[0m \u001b[0my\u001b[0m\u001b[0;34m,\u001b[0m \u001b[0mlambd\u001b[0m\u001b[0;34m)\u001b[0m\u001b[0;34m\u001b[0m\u001b[0m\n\u001b[0;32m---> 11\u001b[0;31m     \u001b[0mw_l\u001b[0m \u001b[0;34m=\u001b[0m \u001b[0mminimize\u001b[0m\u001b[0;34m(\u001b[0m\u001b[0mregressionObjVal\u001b[0m\u001b[0;34m,\u001b[0m \u001b[0mw_init\u001b[0m\u001b[0;34m,\u001b[0m \u001b[0mjac\u001b[0m\u001b[0;34m=\u001b[0m\u001b[0;32mTrue\u001b[0m\u001b[0;34m,\u001b[0m \u001b[0margs\u001b[0m\u001b[0;34m=\u001b[0m\u001b[0margs\u001b[0m\u001b[0;34m,\u001b[0m \u001b[0mmethod\u001b[0m\u001b[0;34m=\u001b[0m\u001b[0;34m'CG'\u001b[0m\u001b[0;34m,\u001b[0m \u001b[0moptions\u001b[0m\u001b[0;34m=\u001b[0m\u001b[0mopts\u001b[0m\u001b[0;34m)\u001b[0m\u001b[0;34m\u001b[0m\u001b[0m\n\u001b[0m\u001b[1;32m     12\u001b[0m     \u001b[0mw_l\u001b[0m \u001b[0;34m=\u001b[0m \u001b[0mnp\u001b[0m\u001b[0;34m.\u001b[0m\u001b[0mtranspose\u001b[0m\u001b[0;34m(\u001b[0m\u001b[0mnp\u001b[0m\u001b[0;34m.\u001b[0m\u001b[0marray\u001b[0m\u001b[0;34m(\u001b[0m\u001b[0mw_l\u001b[0m\u001b[0;34m.\u001b[0m\u001b[0mx\u001b[0m\u001b[0;34m)\u001b[0m\u001b[0;34m)\u001b[0m\u001b[0;34m\u001b[0m\u001b[0m\n\u001b[1;32m     13\u001b[0m     \u001b[0mw_l\u001b[0m \u001b[0;34m=\u001b[0m \u001b[0mnp\u001b[0m\u001b[0;34m.\u001b[0m\u001b[0mreshape\u001b[0m\u001b[0;34m(\u001b[0m\u001b[0mw_l\u001b[0m\u001b[0;34m,\u001b[0m \u001b[0;34m[\u001b[0m\u001b[0mlen\u001b[0m\u001b[0;34m(\u001b[0m\u001b[0mw_l\u001b[0m\u001b[0;34m)\u001b[0m\u001b[0;34m,\u001b[0m \u001b[0;36m1\u001b[0m\u001b[0;34m]\u001b[0m\u001b[0;34m)\u001b[0m\u001b[0;34m\u001b[0m\u001b[0m\n",
      "\u001b[0;32m/usr/lib/python3.6/site-packages/scipy/optimize/_minimize.py\u001b[0m in \u001b[0;36mminimize\u001b[0;34m(fun, x0, args, method, jac, hess, hessp, bounds, constraints, tol, callback, options)\u001b[0m\n\u001b[1;32m    440\u001b[0m         \u001b[0;32mreturn\u001b[0m \u001b[0m_minimize_powell\u001b[0m\u001b[0;34m(\u001b[0m\u001b[0mfun\u001b[0m\u001b[0;34m,\u001b[0m \u001b[0mx0\u001b[0m\u001b[0;34m,\u001b[0m \u001b[0margs\u001b[0m\u001b[0;34m,\u001b[0m \u001b[0mcallback\u001b[0m\u001b[0;34m,\u001b[0m \u001b[0;34m**\u001b[0m\u001b[0moptions\u001b[0m\u001b[0;34m)\u001b[0m\u001b[0;34m\u001b[0m\u001b[0m\n\u001b[1;32m    441\u001b[0m     \u001b[0;32melif\u001b[0m \u001b[0mmeth\u001b[0m \u001b[0;34m==\u001b[0m \u001b[0;34m'cg'\u001b[0m\u001b[0;34m:\u001b[0m\u001b[0;34m\u001b[0m\u001b[0m\n\u001b[0;32m--> 442\u001b[0;31m         \u001b[0;32mreturn\u001b[0m \u001b[0m_minimize_cg\u001b[0m\u001b[0;34m(\u001b[0m\u001b[0mfun\u001b[0m\u001b[0;34m,\u001b[0m \u001b[0mx0\u001b[0m\u001b[0;34m,\u001b[0m \u001b[0margs\u001b[0m\u001b[0;34m,\u001b[0m \u001b[0mjac\u001b[0m\u001b[0;34m,\u001b[0m \u001b[0mcallback\u001b[0m\u001b[0;34m,\u001b[0m \u001b[0;34m**\u001b[0m\u001b[0moptions\u001b[0m\u001b[0;34m)\u001b[0m\u001b[0;34m\u001b[0m\u001b[0m\n\u001b[0m\u001b[1;32m    443\u001b[0m     \u001b[0;32melif\u001b[0m \u001b[0mmeth\u001b[0m \u001b[0;34m==\u001b[0m \u001b[0;34m'bfgs'\u001b[0m\u001b[0;34m:\u001b[0m\u001b[0;34m\u001b[0m\u001b[0m\n\u001b[1;32m    444\u001b[0m         \u001b[0;32mreturn\u001b[0m \u001b[0m_minimize_bfgs\u001b[0m\u001b[0;34m(\u001b[0m\u001b[0mfun\u001b[0m\u001b[0;34m,\u001b[0m \u001b[0mx0\u001b[0m\u001b[0;34m,\u001b[0m \u001b[0margs\u001b[0m\u001b[0;34m,\u001b[0m \u001b[0mjac\u001b[0m\u001b[0;34m,\u001b[0m \u001b[0mcallback\u001b[0m\u001b[0;34m,\u001b[0m \u001b[0;34m**\u001b[0m\u001b[0moptions\u001b[0m\u001b[0;34m)\u001b[0m\u001b[0;34m\u001b[0m\u001b[0m\n",
      "\u001b[0;32m/usr/lib/python3.6/site-packages/scipy/optimize/optimize.py\u001b[0m in \u001b[0;36m_minimize_cg\u001b[0;34m(fun, x0, args, jac, callback, gtol, norm, eps, maxiter, disp, return_all, **unknown_options)\u001b[0m\n\u001b[1;32m   1245\u001b[0m             \u001b[0malpha_k\u001b[0m\u001b[0;34m,\u001b[0m \u001b[0mfc\u001b[0m\u001b[0;34m,\u001b[0m \u001b[0mgc\u001b[0m\u001b[0;34m,\u001b[0m \u001b[0mold_fval\u001b[0m\u001b[0;34m,\u001b[0m \u001b[0mold_old_fval\u001b[0m\u001b[0;34m,\u001b[0m \u001b[0mgfkp1\u001b[0m \u001b[0;34m=\u001b[0m\u001b[0;31m \u001b[0m\u001b[0;31m\\\u001b[0m\u001b[0;34m\u001b[0m\u001b[0m\n\u001b[1;32m   1246\u001b[0m                      _line_search_wolfe12(f, myfprime, xk, pk, gfk, old_fval,\n\u001b[0;32m-> 1247\u001b[0;31m                                           old_old_fval, c2=0.4, amin=1e-100, amax=1e100)\n\u001b[0m\u001b[1;32m   1248\u001b[0m         \u001b[0;32mexcept\u001b[0m \u001b[0m_LineSearchError\u001b[0m\u001b[0;34m:\u001b[0m\u001b[0;34m\u001b[0m\u001b[0m\n\u001b[1;32m   1249\u001b[0m             \u001b[0;31m# Line search failed to find a better solution.\u001b[0m\u001b[0;34m\u001b[0m\u001b[0;34m\u001b[0m\u001b[0m\n",
      "\u001b[0;32m/usr/lib/python3.6/site-packages/scipy/optimize/optimize.py\u001b[0m in \u001b[0;36m_line_search_wolfe12\u001b[0;34m(f, fprime, xk, pk, gfk, old_fval, old_old_fval, **kwargs)\u001b[0m\n\u001b[1;32m    770\u001b[0m             \u001b[0mwarnings\u001b[0m\u001b[0;34m.\u001b[0m\u001b[0msimplefilter\u001b[0m\u001b[0;34m(\u001b[0m\u001b[0;34m'ignore'\u001b[0m\u001b[0;34m,\u001b[0m \u001b[0mLineSearchWarning\u001b[0m\u001b[0;34m)\u001b[0m\u001b[0;34m\u001b[0m\u001b[0m\n\u001b[1;32m    771\u001b[0m             ret = line_search_wolfe2(f, fprime, xk, pk, gfk,\n\u001b[0;32m--> 772\u001b[0;31m                                      old_fval, old_old_fval)\n\u001b[0m\u001b[1;32m    773\u001b[0m \u001b[0;34m\u001b[0m\u001b[0m\n\u001b[1;32m    774\u001b[0m     \u001b[0;32mif\u001b[0m \u001b[0mret\u001b[0m\u001b[0;34m[\u001b[0m\u001b[0;36m0\u001b[0m\u001b[0;34m]\u001b[0m \u001b[0;32mis\u001b[0m \u001b[0;32mNone\u001b[0m\u001b[0;34m:\u001b[0m\u001b[0;34m\u001b[0m\u001b[0m\n",
      "\u001b[0;32m/usr/lib/python3.6/site-packages/scipy/optimize/linesearch.py\u001b[0m in \u001b[0;36mline_search_wolfe2\u001b[0;34m(f, myfprime, xk, pk, gfk, old_fval, old_old_fval, args, c1, c2, amax)\u001b[0m\n\u001b[1;32m    280\u001b[0m \u001b[0;34m\u001b[0m\u001b[0m\n\u001b[1;32m    281\u001b[0m     alpha_star, phi_star, old_fval, derphi_star = scalar_search_wolfe2(\n\u001b[0;32m--> 282\u001b[0;31m             phi, derphi, old_fval, old_old_fval, derphi0, c1, c2, amax)\n\u001b[0m\u001b[1;32m    283\u001b[0m \u001b[0;34m\u001b[0m\u001b[0m\n\u001b[1;32m    284\u001b[0m     \u001b[0;32mif\u001b[0m \u001b[0mderphi_star\u001b[0m \u001b[0;32mis\u001b[0m \u001b[0;32mNone\u001b[0m\u001b[0;34m:\u001b[0m\u001b[0;34m\u001b[0m\u001b[0m\n",
      "\u001b[0;32m/usr/lib/python3.6/site-packages/scipy/optimize/linesearch.py\u001b[0m in \u001b[0;36mscalar_search_wolfe2\u001b[0;34m(phi, derphi, phi0, old_phi0, derphi0, c1, c2, amax)\u001b[0m\n\u001b[1;32m    382\u001b[0m                         _zoom(alpha0, alpha1, phi_a0,\n\u001b[1;32m    383\u001b[0m                               \u001b[0mphi_a1\u001b[0m\u001b[0;34m,\u001b[0m \u001b[0mderphi_a0\u001b[0m\u001b[0;34m,\u001b[0m \u001b[0mphi\u001b[0m\u001b[0;34m,\u001b[0m \u001b[0mderphi\u001b[0m\u001b[0;34m,\u001b[0m\u001b[0;34m\u001b[0m\u001b[0m\n\u001b[0;32m--> 384\u001b[0;31m                               phi0, derphi0, c1, c2)\n\u001b[0m\u001b[1;32m    385\u001b[0m             \u001b[0;32mbreak\u001b[0m\u001b[0;34m\u001b[0m\u001b[0m\n\u001b[1;32m    386\u001b[0m \u001b[0;34m\u001b[0m\u001b[0m\n",
      "\u001b[0;32m/usr/lib/python3.6/site-packages/scipy/optimize/linesearch.py\u001b[0m in \u001b[0;36m_zoom\u001b[0;34m(a_lo, a_hi, phi_lo, phi_hi, derphi_lo, phi, derphi, phi0, derphi0, c1, c2)\u001b[0m\n\u001b[1;32m    518\u001b[0m         \u001b[0;31m# Check new value of a_j\u001b[0m\u001b[0;34m\u001b[0m\u001b[0;34m\u001b[0m\u001b[0m\n\u001b[1;32m    519\u001b[0m \u001b[0;34m\u001b[0m\u001b[0m\n\u001b[0;32m--> 520\u001b[0;31m         \u001b[0mphi_aj\u001b[0m \u001b[0;34m=\u001b[0m \u001b[0mphi\u001b[0m\u001b[0;34m(\u001b[0m\u001b[0ma_j\u001b[0m\u001b[0;34m)\u001b[0m\u001b[0;34m\u001b[0m\u001b[0m\n\u001b[0m\u001b[1;32m    521\u001b[0m         \u001b[0;32mif\u001b[0m \u001b[0;34m(\u001b[0m\u001b[0mphi_aj\u001b[0m \u001b[0;34m>\u001b[0m \u001b[0mphi0\u001b[0m \u001b[0;34m+\u001b[0m \u001b[0mc1\u001b[0m\u001b[0;34m*\u001b[0m\u001b[0ma_j\u001b[0m\u001b[0;34m*\u001b[0m\u001b[0mderphi0\u001b[0m\u001b[0;34m)\u001b[0m \u001b[0;32mor\u001b[0m \u001b[0;34m(\u001b[0m\u001b[0mphi_aj\u001b[0m \u001b[0;34m>=\u001b[0m \u001b[0mphi_lo\u001b[0m\u001b[0;34m)\u001b[0m\u001b[0;34m:\u001b[0m\u001b[0;34m\u001b[0m\u001b[0m\n\u001b[1;32m    522\u001b[0m             \u001b[0mphi_rec\u001b[0m \u001b[0;34m=\u001b[0m \u001b[0mphi_hi\u001b[0m\u001b[0;34m\u001b[0m\u001b[0m\n",
      "\u001b[0;32m/usr/lib/python3.6/site-packages/scipy/optimize/linesearch.py\u001b[0m in \u001b[0;36mphi\u001b[0;34m(alpha)\u001b[0m\n\u001b[1;32m    257\u001b[0m     \u001b[0;32mdef\u001b[0m \u001b[0mphi\u001b[0m\u001b[0;34m(\u001b[0m\u001b[0malpha\u001b[0m\u001b[0;34m)\u001b[0m\u001b[0;34m:\u001b[0m\u001b[0;34m\u001b[0m\u001b[0m\n\u001b[1;32m    258\u001b[0m         \u001b[0mfc\u001b[0m\u001b[0;34m[\u001b[0m\u001b[0;36m0\u001b[0m\u001b[0;34m]\u001b[0m \u001b[0;34m+=\u001b[0m \u001b[0;36m1\u001b[0m\u001b[0;34m\u001b[0m\u001b[0m\n\u001b[0;32m--> 259\u001b[0;31m         \u001b[0;32mreturn\u001b[0m \u001b[0mf\u001b[0m\u001b[0;34m(\u001b[0m\u001b[0mxk\u001b[0m \u001b[0;34m+\u001b[0m \u001b[0malpha\u001b[0m \u001b[0;34m*\u001b[0m \u001b[0mpk\u001b[0m\u001b[0;34m,\u001b[0m \u001b[0;34m*\u001b[0m\u001b[0margs\u001b[0m\u001b[0;34m)\u001b[0m\u001b[0;34m\u001b[0m\u001b[0m\n\u001b[0m\u001b[1;32m    260\u001b[0m \u001b[0;34m\u001b[0m\u001b[0m\n\u001b[1;32m    261\u001b[0m     \u001b[0;32mif\u001b[0m \u001b[0misinstance\u001b[0m\u001b[0;34m(\u001b[0m\u001b[0mmyfprime\u001b[0m\u001b[0;34m,\u001b[0m \u001b[0mtuple\u001b[0m\u001b[0;34m)\u001b[0m\u001b[0;34m:\u001b[0m\u001b[0;34m\u001b[0m\u001b[0m\n",
      "\u001b[0;32m/usr/lib/python3.6/site-packages/scipy/optimize/optimize.py\u001b[0m in \u001b[0;36mfunction_wrapper\u001b[0;34m(*wrapper_args)\u001b[0m\n\u001b[1;32m    290\u001b[0m     \u001b[0;32mdef\u001b[0m \u001b[0mfunction_wrapper\u001b[0m\u001b[0;34m(\u001b[0m\u001b[0;34m*\u001b[0m\u001b[0mwrapper_args\u001b[0m\u001b[0;34m)\u001b[0m\u001b[0;34m:\u001b[0m\u001b[0;34m\u001b[0m\u001b[0m\n\u001b[1;32m    291\u001b[0m         \u001b[0mncalls\u001b[0m\u001b[0;34m[\u001b[0m\u001b[0;36m0\u001b[0m\u001b[0;34m]\u001b[0m \u001b[0;34m+=\u001b[0m \u001b[0;36m1\u001b[0m\u001b[0;34m\u001b[0m\u001b[0m\n\u001b[0;32m--> 292\u001b[0;31m         \u001b[0;32mreturn\u001b[0m \u001b[0mfunction\u001b[0m\u001b[0;34m(\u001b[0m\u001b[0;34m*\u001b[0m\u001b[0;34m(\u001b[0m\u001b[0mwrapper_args\u001b[0m \u001b[0;34m+\u001b[0m \u001b[0margs\u001b[0m\u001b[0;34m)\u001b[0m\u001b[0;34m)\u001b[0m\u001b[0;34m\u001b[0m\u001b[0m\n\u001b[0m\u001b[1;32m    293\u001b[0m \u001b[0;34m\u001b[0m\u001b[0m\n\u001b[1;32m    294\u001b[0m     \u001b[0;32mreturn\u001b[0m \u001b[0mncalls\u001b[0m\u001b[0;34m,\u001b[0m \u001b[0mfunction_wrapper\u001b[0m\u001b[0;34m\u001b[0m\u001b[0m\n",
      "\u001b[0;32m/usr/lib/python3.6/site-packages/scipy/optimize/optimize.py\u001b[0m in \u001b[0;36m__call__\u001b[0;34m(self, x, *args)\u001b[0m\n\u001b[1;32m     61\u001b[0m     \u001b[0;32mdef\u001b[0m \u001b[0m__call__\u001b[0m\u001b[0;34m(\u001b[0m\u001b[0mself\u001b[0m\u001b[0;34m,\u001b[0m \u001b[0mx\u001b[0m\u001b[0;34m,\u001b[0m \u001b[0;34m*\u001b[0m\u001b[0margs\u001b[0m\u001b[0;34m)\u001b[0m\u001b[0;34m:\u001b[0m\u001b[0;34m\u001b[0m\u001b[0m\n\u001b[1;32m     62\u001b[0m         \u001b[0mself\u001b[0m\u001b[0;34m.\u001b[0m\u001b[0mx\u001b[0m \u001b[0;34m=\u001b[0m \u001b[0mnumpy\u001b[0m\u001b[0;34m.\u001b[0m\u001b[0masarray\u001b[0m\u001b[0;34m(\u001b[0m\u001b[0mx\u001b[0m\u001b[0;34m)\u001b[0m\u001b[0;34m.\u001b[0m\u001b[0mcopy\u001b[0m\u001b[0;34m(\u001b[0m\u001b[0;34m)\u001b[0m\u001b[0;34m\u001b[0m\u001b[0m\n\u001b[0;32m---> 63\u001b[0;31m         \u001b[0mfg\u001b[0m \u001b[0;34m=\u001b[0m \u001b[0mself\u001b[0m\u001b[0;34m.\u001b[0m\u001b[0mfun\u001b[0m\u001b[0;34m(\u001b[0m\u001b[0mx\u001b[0m\u001b[0;34m,\u001b[0m \u001b[0;34m*\u001b[0m\u001b[0margs\u001b[0m\u001b[0;34m)\u001b[0m\u001b[0;34m\u001b[0m\u001b[0m\n\u001b[0m\u001b[1;32m     64\u001b[0m         \u001b[0mself\u001b[0m\u001b[0;34m.\u001b[0m\u001b[0mjac\u001b[0m \u001b[0;34m=\u001b[0m \u001b[0mfg\u001b[0m\u001b[0;34m[\u001b[0m\u001b[0;36m1\u001b[0m\u001b[0;34m]\u001b[0m\u001b[0;34m\u001b[0m\u001b[0m\n\u001b[1;32m     65\u001b[0m         \u001b[0;32mreturn\u001b[0m \u001b[0mfg\u001b[0m\u001b[0;34m[\u001b[0m\u001b[0;36m0\u001b[0m\u001b[0;34m]\u001b[0m\u001b[0;34m\u001b[0m\u001b[0m\n",
      "\u001b[0;32m<ipython-input-7-d80d4b0839e5>\u001b[0m in \u001b[0;36mregressionObjVal\u001b[0;34m(w, X, y, lambd)\u001b[0m\n\u001b[1;32m     24\u001b[0m     \u001b[0mwT\u001b[0m \u001b[0;34m=\u001b[0m \u001b[0mnp\u001b[0m\u001b[0;34m.\u001b[0m\u001b[0marray\u001b[0m\u001b[0;34m(\u001b[0m\u001b[0;34m[\u001b[0m\u001b[0mw\u001b[0m\u001b[0;34m]\u001b[0m\u001b[0;34m)\u001b[0m\u001b[0;34m.\u001b[0m\u001b[0mT\u001b[0m\u001b[0;34m\u001b[0m\u001b[0m\n\u001b[1;32m     25\u001b[0m     \u001b[0mw2\u001b[0m \u001b[0;34m=\u001b[0m \u001b[0mnp\u001b[0m\u001b[0;34m.\u001b[0m\u001b[0marray\u001b[0m\u001b[0;34m(\u001b[0m\u001b[0;34m[\u001b[0m\u001b[0mw\u001b[0m\u001b[0;34m]\u001b[0m\u001b[0;34m)\u001b[0m\u001b[0;34m\u001b[0m\u001b[0m\n\u001b[0;32m---> 26\u001b[0;31m     \u001b[0mterm1\u001b[0m\u001b[0;34m=\u001b[0m\u001b[0;34m(\u001b[0m\u001b[0my\u001b[0m \u001b[0;34m-\u001b[0m \u001b[0mnp\u001b[0m\u001b[0;34m.\u001b[0m\u001b[0mdot\u001b[0m\u001b[0;34m(\u001b[0m\u001b[0mX\u001b[0m\u001b[0;34m,\u001b[0m \u001b[0mwT\u001b[0m\u001b[0;34m)\u001b[0m\u001b[0;34m)\u001b[0m\u001b[0;34m\u001b[0m\u001b[0m\n\u001b[0m\u001b[1;32m     27\u001b[0m     \u001b[0merror\u001b[0m \u001b[0;34m=\u001b[0m \u001b[0;34m(\u001b[0m\u001b[0;34m(\u001b[0m\u001b[0mnp\u001b[0m\u001b[0;34m.\u001b[0m\u001b[0mdot\u001b[0m\u001b[0;34m(\u001b[0m\u001b[0mterm1\u001b[0m\u001b[0;34m.\u001b[0m\u001b[0mT\u001b[0m\u001b[0;34m,\u001b[0m \u001b[0mterm1\u001b[0m\u001b[0;34m)\u001b[0m\u001b[0;34m)\u001b[0m \u001b[0;34m/\u001b[0m \u001b[0;34m(\u001b[0m\u001b[0;36m2.0\u001b[0m \u001b[0;34m*\u001b[0m \u001b[0mN\u001b[0m\u001b[0;34m)\u001b[0m\u001b[0;34m)\u001b[0m \u001b[0;34m+\u001b[0m \u001b[0;34m(\u001b[0m\u001b[0;34m(\u001b[0m\u001b[0mnp\u001b[0m\u001b[0;34m.\u001b[0m\u001b[0mdot\u001b[0m\u001b[0;34m(\u001b[0m\u001b[0mlambd\u001b[0m\u001b[0;34m,\u001b[0m \u001b[0mnp\u001b[0m\u001b[0;34m.\u001b[0m\u001b[0mdot\u001b[0m\u001b[0;34m(\u001b[0m\u001b[0mwT\u001b[0m\u001b[0;34m.\u001b[0m\u001b[0mT\u001b[0m\u001b[0;34m,\u001b[0m \u001b[0mwT\u001b[0m\u001b[0;34m)\u001b[0m\u001b[0;34m)\u001b[0m\u001b[0;34m)\u001b[0m \u001b[0;34m/\u001b[0m \u001b[0;36m2\u001b[0m\u001b[0;34m)\u001b[0m\u001b[0;34m\u001b[0m\u001b[0m\n\u001b[1;32m     28\u001b[0m     \u001b[0myTx\u001b[0m \u001b[0;34m=\u001b[0m \u001b[0mnp\u001b[0m\u001b[0;34m.\u001b[0m\u001b[0mdot\u001b[0m\u001b[0;34m(\u001b[0m\u001b[0my\u001b[0m\u001b[0;34m.\u001b[0m\u001b[0mT\u001b[0m\u001b[0;34m,\u001b[0m \u001b[0mX\u001b[0m\u001b[0;34m)\u001b[0m\u001b[0;34m\u001b[0m\u001b[0m\n",
      "\u001b[0;31mValueError\u001b[0m: shapes (242,65) and (65,1,1) not aligned: 65 (dim 1) != 1 (dim 1)"
     ]
    }
   ],
   "source": [
    "# Problem 4\n",
    "k = 101\n",
    "lambdas = np.linspace(0, 1, num=k)\n",
    "i = 0\n",
    "mses4_train = np.zeros((k, 1))\n",
    "mses4 = np.zeros((k, 1))\n",
    "opts = {'maxiter': 20}  # Preferred value.\n",
    "w_init = np.ones((X_i.shape[1], 1))\n",
    "for lambd in lambdas:\n",
    "    args = (X_i, y, lambd)\n",
    "    w_l = minimize(regressionObjVal, w_init, jac=True, args=args, method='CG', options=opts)\n",
    "    w_l = np.transpose(np.array(w_l.x))\n",
    "    w_l = np.reshape(w_l, [len(w_l), 1])\n",
    "    mses4_train[i] = testOLERegression(w_l, X_i, y)\n",
    "    mses4[i] = testOLERegression(w_l, Xtest_i, ytest)\n",
    "    i = i + 1\n",
    "fig = plt.figure(figsize=[12, 6])\n",
    "plt.subplot(1, 2, 1)\n",
    "plt.plot(lambdas, mses4_train)\n",
    "plt.plot(lambdas, mses3_train)\n",
    "plt.title('MSE for Train Data')\n",
    "plt.legend(['Using scipy.minimize', 'Direct minimization'])\n",
    "\n",
    "plt.subplot(1, 2, 2)\n",
    "plt.plot(lambdas, mses4)\n",
    "plt.plot(lambdas, mses3)\n",
    "plt.title('MSE for Test Data')\n",
    "plt.legend(['Using scipy.minimize', 'Direct minimization'])\n",
    "plt.show()"
   ]
  },
  {
   "cell_type": "code",
   "execution_count": null,
   "metadata": {
    "scrolled": true
   },
   "outputs": [],
   "source": [
    "# Problem 5\n",
    "pmax = 7\n",
    "lambda_opt = lambdas[np.argmin(mses4)]  # REPLACE THIS WITH lambda_opt estimated from Problem 3\n",
    "mses5_train = np.zeros((pmax, 2))\n",
    "mses5 = np.zeros((pmax, 2))\n",
    "for p in range(pmax):\n",
    "    Xd = mapNonLinear(X[:, 2], p)\n",
    "    Xdtest = mapNonLinear(Xtest[:, 2], p)\n",
    "    w_d1 = learnRidgeRegression(Xd, y, 0)\n",
    "    mses5_train[p, 0] = testOLERegression(w_d1, Xd, y)\n",
    "    mses5[p, 0] = testOLERegression(w_d1, Xdtest, ytest)\n",
    "    w_d2 = learnRidgeRegression(Xd, y, lambda_opt)\n",
    "    mses5_train[p, 1] = testOLERegression(w_d2, Xd, y)\n",
    "    mses5[p, 1] = testOLERegression(w_d2, Xdtest, ytest)\n",
    "\n",
    "print(\"REGULARISED DATA\\n-----------------\");\n",
    "print(\"Lambda,TestingMSE,TrainingMSE\")\n",
    "for i in range(len(mses5)):\n",
    "    print(lambda_opt,\",\",mses5[i][0],\",\",mses5_train[i][0])\n",
    "    \n",
    "print(\"\\nNON-REGULARISED DATA\\n--------------------\");\n",
    "print(\"Lambda,TestingMSE,TrainingMSE\")\n",
    "for i in range(len(mses5)):\n",
    "    print(lambda_opt,\",\",mses5[i][1],\",\",mses5_train[i][1])\n",
    "\n",
    "fig = plt.figure(figsize=[12, 6])\n",
    "plt.subplot(1, 2, 1)\n",
    "plt.plot(range(pmax), mses5_train[range(pmax),0])\n",
    "plt.plot(range(pmax), mses5_train[range(pmax),1])\n",
    "plt.title('MSE for Train Data')\n",
    "plt.legend(('No Regularization', 'Regularization'))\n",
    "plt.subplot(1, 2, 2)\n",
    "plt.plot(range(pmax), mses5[range(pmax),0])\n",
    "plt.plot(range(pmax), mses5[range(pmax),1])\n",
    "plt.title('MSE for Test Data')\n",
    "plt.legend(('No Regularization', 'Regularization'))\n",
    "plt.show()"
   ]
  },
  {
   "cell_type": "code",
   "execution_count": null,
   "metadata": {
    "collapsed": true
   },
   "outputs": [],
   "source": []
  }
 ],
 "metadata": {
  "kernelspec": {
   "display_name": "Python 3",
   "language": "python",
   "name": "python3"
  },
  "language_info": {
   "codemirror_mode": {
    "name": "ipython",
    "version": 3
   },
   "file_extension": ".py",
   "mimetype": "text/x-python",
   "name": "python",
   "nbconvert_exporter": "python",
   "pygments_lexer": "ipython3",
   "version": "3.6.0"
  }
 },
 "nbformat": 4,
 "nbformat_minor": 2
}
